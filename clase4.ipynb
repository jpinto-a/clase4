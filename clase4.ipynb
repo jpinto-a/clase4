{
 "cells": [
  {
   "cell_type": "code",
   "execution_count": 1,
   "id": "d9858c31-d60d-4bbf-9612-8e80fb3bfe58",
   "metadata": {},
   "outputs": [
    {
     "name": "stdout",
     "output_type": "stream",
     "text": [
      "Precio total por producto:  [ 55.  120.   67.5]\n"
     ]
    }
   ],
   "source": [
    "import numpy as np\n",
    "productos = np.array([[1,10,5.5],\n",
    "                      [2,20,6.0],\n",
    "                      [3,15,4.5]])\n",
    "precio_total = productos[:,1]*productos[:,2]\n",
    "print(\"Precio total por producto: \", precio_total)"
   ]
  },
  {
   "cell_type": "code",
   "execution_count": 2,
   "id": "e48de2a3-1c72-40e0-bb1c-9c8590023b5a",
   "metadata": {},
   "outputs": [
    {
     "name": "stdout",
     "output_type": "stream",
     "text": [
      "   Producto_ID  Cantidad  Precio  Precio_Total\n",
      "0            1        10     5.5          55.0\n",
      "1            2        20     6.0         120.0\n",
      "2            3        15     4.5          67.5\n"
     ]
    }
   ],
   "source": [
    "import pandas as pd\n",
    "productos_df =pd.DataFrame({\n",
    "    'Producto_ID': [1,2,3],\n",
    "    'Cantidad' : [10, 20,15],\n",
    "    'Precio': [5.5,6.0,4.5]\n",
    "})\n",
    "productos_df['Precio_Total'] = productos_df['Cantidad']*productos_df['Precio']\n",
    "print(productos_df)"
   ]
  },
  {
   "cell_type": "code",
   "execution_count": null,
   "id": "f79e120d-5e89-4250-845e-6a647699d5f0",
   "metadata": {},
   "outputs": [],
   "source": []
  }
 ],
 "metadata": {
  "kernelspec": {
   "display_name": "Python 3 (ipykernel)",
   "language": "python",
   "name": "python3"
  },
  "language_info": {
   "codemirror_mode": {
    "name": "ipython",
    "version": 3
   },
   "file_extension": ".py",
   "mimetype": "text/x-python",
   "name": "python",
   "nbconvert_exporter": "python",
   "pygments_lexer": "ipython3",
   "version": "3.13.5"
  }
 },
 "nbformat": 4,
 "nbformat_minor": 5
}
