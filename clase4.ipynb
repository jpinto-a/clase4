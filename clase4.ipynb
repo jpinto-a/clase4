{
 "cells": [
  {
   "cell_type": "code",
   "execution_count": 1,
   "id": "d9858c31-d60d-4bbf-9612-8e80fb3bfe58",
   "metadata": {},
   "outputs": [
    {
     "name": "stdout",
     "output_type": "stream",
     "text": [
      "Precio total por producto:  [ 55.  120.   67.5]\n"
     ]
    }
   ],
   "source": [
    "import numpy as np\n",
    "productos = np.array([[1,10,5.5],\n",
    "                      [2,20,6.0],\n",
    "                      [3,15,4.5]])\n",
    "precio_total = productos[:,1]*productos[:,2]\n",
    "print(\"Precio total por producto: \", precio_total)"
   ]
  },
  {
   "cell_type": "code",
   "execution_count": 2,
   "id": "e48de2a3-1c72-40e0-bb1c-9c8590023b5a",
   "metadata": {},
   "outputs": [
    {
     "name": "stdout",
     "output_type": "stream",
     "text": [
      "   Producto_ID  Cantidad  Precio  Precio_Total\n",
      "0            1        10     5.5          55.0\n",
      "1            2        20     6.0         120.0\n",
      "2            3        15     4.5          67.5\n"
     ]
    }
   ],
   "source": [
    "import pandas as pd\n",
    "productos_df =pd.DataFrame({\n",
    "    'Producto_ID': [1,2,3],\n",
    "    'Cantidad' : [10, 20,15],\n",
    "    'Precio': [5.5,6.0,4.5]\n",
    "})\n",
    "productos_df['Precio_Total'] = productos_df['Cantidad']*productos_df['Precio']\n",
    "print(productos_df)"
   ]
  },
  {
   "cell_type": "code",
   "execution_count": 3,
   "id": "f79e120d-5e89-4250-845e-6a647699d5f0",
   "metadata": {},
   "outputs": [
    {
     "name": "stdout",
     "output_type": "stream",
     "text": [
      "   Producto_ID  Cantidad  Precio\n",
      "0            1        10     5.5\n",
      "1            2        20     6.0\n"
     ]
    }
   ],
   "source": [
    "import pandas as pd\n",
    "productos_df =pd.DataFrame({\n",
    "    'Producto_ID': [1,2,3],\n",
    "    'Cantidad' : [10, 20,15],\n",
    "    'Precio': [5.5,6.0,4.5]\n",
    "})\n",
    "print(productos_df.loc[productos_df['Precio']>5.0])"
   ]
  },
  {
   "cell_type": "code",
   "execution_count": 6,
   "id": "88a18468-2b3f-468e-9da9-ab49c3e238b0",
   "metadata": {},
   "outputs": [
    {
     "name": "stdout",
     "output_type": "stream",
     "text": [
      "Promedio por estudiante:  [6.         6.         5.66666667 7.         5.        ]\n",
      "Promedio por asignatura:  [5.8 6.  6. ]\n"
     ]
    }
   ],
   "source": [
    "import numpy as np\n",
    "notas = np.array([\n",
    "    [7,6,5],\n",
    "    [5,7,6],\n",
    "    [6,4,7],\n",
    "    [7,7,7],\n",
    "    [4,6,5]\n",
    "])\n",
    "promedios_estudiantes = np.mean(notas, axis=1)\n",
    "print(\"Promedio por estudiante: \", promedios_estudiantes)\n",
    "promedios_asignaturas = np.mean(notas, axis=0)\n",
    "print(\"Promedio por asignatura: \", promedios_asignaturas)                "
   ]
  },
  {
   "cell_type": "code",
   "execution_count": 7,
   "id": "3a21d8d7-6930-40f4-994f-788d391173ab",
   "metadata": {},
   "outputs": [
    {
     "name": "stdout",
     "output_type": "stream",
     "text": [
      "   Asignatura 1  Asignatura 2  Asignatura 3  Promedio_Estudiante\n",
      "0             7             6             5             6.000000\n",
      "1             5             7             6             6.000000\n",
      "2             6             4             7             5.666667\n",
      "3             7             7             7             7.000000\n",
      "4             4             6             5             5.000000\n",
      "Notas ordenadas por promedio: \n",
      "    Asignatura 1  Asignatura 2  Asignatura 3  Promedio_Estudiante\n",
      "3             7             7             7             7.000000\n",
      "0             7             6             5             6.000000\n",
      "1             5             7             6             6.000000\n",
      "2             6             4             7             5.666667\n",
      "4             4             6             5             5.000000\n"
     ]
    }
   ],
   "source": [
    "import pandas as pd\n",
    "notas_df = pd.DataFrame(notas, columns=[\"Asignatura 1\", \"Asignatura 2\", \"Asignatura 3\"])\n",
    "notas_df[\"Promedio_Estudiante\"] = promedios_estudiantes\n",
    "print(notas_df)\n",
    "# ordenar las notas de los estudiantes por su promedio\n",
    "notas_ordenadas = notas_df.sort_values(by='Promedio_Estudiante', ascending=False)\n",
    "print('Notas ordenadas por promedio: \\n', notas_ordenadas)"
   ]
  },
  {
   "cell_type": "code",
   "execution_count": 9,
   "id": "9fa5d249-eb34-48f7-bcc9-99943300c0d8",
   "metadata": {},
   "outputs": [
    {
     "name": "stdout",
     "output_type": "stream",
     "text": [
      "   Producto_ID  Cantidad  Precio\n",
      "0          1.0      20.0     5.5\n",
      "1          2.0      30.0     7.0\n",
      "2          3.0      10.0     4.2\n",
      "3          4.0      15.0     6.3\n",
      "4          5.0      50.0     8.1\n"
     ]
    }
   ],
   "source": [
    "import numpy as np\n",
    "import pandas as pd\n",
    "#Definimos una matriz de datos\n",
    "data = np.array([\n",
    "    [1,20,5.5],\n",
    "    [2,30,7.0],\n",
    "    [3,10,4.2],\n",
    "    [4,15,6.3],\n",
    "    [5,50,8.1]\n",
    "])\n",
    "#Creamos un DataFrame de Pandas\n",
    "df=pd.DataFrame(data, columns=[\"Producto_ID\",\"Cantidad\",\"Precio\"])\n",
    "print(df)\n"
   ]
  },
  {
   "cell_type": "code",
   "execution_count": 12,
   "id": "2eefda9f-bc27-4eff-b05a-9ae71651f879",
   "metadata": {},
   "outputs": [
    {
     "name": "stdout",
     "output_type": "stream",
     "text": [
      "   Producto_ID  Cantidad  Precio  precio_total\n",
      "0          1.0      20.0     5.5         110.0\n",
      "1          2.0      30.0     7.0         210.0\n",
      "2          3.0      10.0     4.2          42.0\n",
      "3          4.0      15.0     6.3          94.5\n",
      "4          5.0      50.0     8.1         405.0\n"
     ]
    }
   ],
   "source": [
    "import numpy as np\n",
    "import pandas as pd\n",
    "#Definimos una matriz de datos\n",
    "data = np.array([\n",
    "    [1,20,5.5],\n",
    "    [2,30,7.0],\n",
    "    [3,10,4.2],\n",
    "    [4,15,6.3],\n",
    "    [5,50,8.1]\n",
    "])\n",
    "#Creamos un DataFrame de Pandas\n",
    "df=pd.DataFrame(data, columns=[\"Producto_ID\",\"Cantidad\",\"Precio\"])\n",
    "#Calcular Precio total por producto\n",
    "df[\"precio_total\"] = df[\"Cantidad\"]*df[\"Precio\"]\n",
    "print(df)"
   ]
  },
  {
   "cell_type": "code",
   "execution_count": 13,
   "id": "3ab9c06e-6335-4b51-b422-222e9072d73a",
   "metadata": {},
   "outputs": [
    {
     "name": "stdout",
     "output_type": "stream",
     "text": [
      "Precio Total por producto:  [110.  210.   42.   94.5 405. ]\n",
      "Precios acon aumento del 10%:  [6.05 7.7  4.62 6.93 8.91]\n",
      "Desviación estandar de los precios:  1.322724461102916\n"
     ]
    }
   ],
   "source": [
    "#NumPy para operaciones con Arrays y Álgebra lineal\n",
    "import numpy as np\n",
    "import pandas as pd\n",
    "#Definimos una matriz de datos\n",
    "data = np.array([\n",
    "    [1,20,5.5],\n",
    "    [2,30,7.0],\n",
    "    [3,10,4.2],\n",
    "    [4,15,6.3],\n",
    "    [5,50,8.1]\n",
    "])\n",
    "#Cálculo del precio total del producto\n",
    "precio_total=data[:,1]*data[:,2]\n",
    "print(\"Precio Total por producto: \",precio_total)\n",
    "#Aumentamos en 10% el precio de todos los productos\n",
    "precios_aumentados=data[:,2]*1.10 \n",
    "print(\"Precios acon aumento del 10%: \", precios_aumentados)\n",
    "#Cálculo de la desviación estandar del precio\n",
    "desviacion_estandar=np.std(data[:,2])\n",
    "print(\"Desviación estandar de los precios: \", desviacion_estandar)\n"
   ]
  },
  {
   "cell_type": "code",
   "execution_count": 17,
   "id": "e11e567e-b056-4eb2-afb2-73123342e710",
   "metadata": {},
   "outputs": [
    {
     "name": "stdout",
     "output_type": "stream",
     "text": [
      "Productos con precio mayor a 6: \n",
      "    Producto_ID  Cantidad  Precio\n",
      "1          2.0      30.0     7.0\n",
      "3          4.0      15.0     6.3\n",
      "4          5.0      50.0     8.1\n",
      "Estadísticas descriptivas del precio:  count    5.000000\n",
      "mean     6.220000\n",
      "std      1.478851\n",
      "min      4.200000\n",
      "25%      5.500000\n",
      "50%      6.300000\n",
      "75%      7.000000\n",
      "max      8.100000\n",
      "Name: Precio, dtype: float64\n",
      "DataFrame con la columna de Precio_Total:     Producto_ID  Cantidad  Precio  Precio_Total\n",
      "0          1.0      20.0     5.5         110.0\n",
      "1          2.0      30.0     7.0         210.0\n",
      "2          3.0      10.0     4.2          42.0\n",
      "3          4.0      15.0     6.3          94.5\n",
      "4          5.0      50.0     8.1         405.0\n",
      "Productos con cantidad mayor a 20 y precio menor a 7: \n",
      " Empty DataFrame\n",
      "Columns: [Producto_ID, Cantidad, Precio, Precio_Total]\n",
      "Index: []\n"
     ]
    }
   ],
   "source": [
    "#Pandas para manipulación de datos\n",
    "import numpy as np\n",
    "import pandas as pd\n",
    "#Definimos una matriz de datos\n",
    "data = np.array([\n",
    "    [1,20,5.5],\n",
    "    [2,30,7.0],\n",
    "    [3,10,4.2],\n",
    "    [4,15,6.3],\n",
    "    [5,50,8.1]\n",
    "])\n",
    "#Creamos un DataFrame de Pandas\n",
    "df=pd.DataFrame(data, columns=[\"Producto_ID\",\"Cantidad\",\"Precio\"])\n",
    "#Filtramos productos con precio mayor a 6.0\n",
    "productos_filtrados= df[df[\"Precio\"]>6]\n",
    "print(\"Productos con precio mayor a 6: \\n\", productos_filtrados)\n",
    "#Cálculo de estadisticas descriptiva de la columna precio\n",
    "estadisticas=df[\"Precio\"].describe()\n",
    "print(\"Estadísticas descriptivas del precio: \",estadisticas)\n",
    "df[\"Precio_Total\"]=df[\"Cantidad\"]*df[\"Precio\"]\n",
    "print(\"DataFrame con la columna de Precio_Total: \",df)\n",
    "productos_filtrados=df[(df[\"Cantidad\"] > 20) & (df[\"Precio\"] < 7)]\n",
    "print(\"Productos con cantidad mayor a 20 y precio menor a 7: \\n\",productos_filtrados)\n"
   ]
  },
  {
   "cell_type": "code",
   "execution_count": null,
   "id": "a726560b-a098-4c40-a01f-968bb3436ca2",
   "metadata": {},
   "outputs": [],
   "source": []
  }
 ],
 "metadata": {
  "kernelspec": {
   "display_name": "Python 3 (ipykernel)",
   "language": "python",
   "name": "python3"
  },
  "language_info": {
   "codemirror_mode": {
    "name": "ipython",
    "version": 3
   },
   "file_extension": ".py",
   "mimetype": "text/x-python",
   "name": "python",
   "nbconvert_exporter": "python",
   "pygments_lexer": "ipython3",
   "version": "3.13.5"
  }
 },
 "nbformat": 4,
 "nbformat_minor": 5
}
