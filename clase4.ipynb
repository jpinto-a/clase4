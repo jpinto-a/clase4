{
 "cells": [
  {
   "cell_type": "code",
   "execution_count": 1,
   "id": "d9858c31-d60d-4bbf-9612-8e80fb3bfe58",
   "metadata": {},
   "outputs": [
    {
     "name": "stdout",
     "output_type": "stream",
     "text": [
      "Precio total por producto:  [ 55.  120.   67.5]\n"
     ]
    }
   ],
   "source": [
    "import numpy as np\n",
    "productos = np.array([[1,10,5.5],\n",
    "                      [2,20,6.0],\n",
    "                      [3,15,4.5]])\n",
    "precio_total = productos[:,1]*productos[:,2]\n",
    "print(\"Precio total por producto: \", precio_total)"
   ]
  },
  {
   "cell_type": "code",
   "execution_count": 2,
   "id": "e48de2a3-1c72-40e0-bb1c-9c8590023b5a",
   "metadata": {},
   "outputs": [
    {
     "name": "stdout",
     "output_type": "stream",
     "text": [
      "   Producto_ID  Cantidad  Precio  Precio_Total\n",
      "0            1        10     5.5          55.0\n",
      "1            2        20     6.0         120.0\n",
      "2            3        15     4.5          67.5\n"
     ]
    }
   ],
   "source": [
    "import pandas as pd\n",
    "productos_df =pd.DataFrame({\n",
    "    'Producto_ID': [1,2,3],\n",
    "    'Cantidad' : [10, 20,15],\n",
    "    'Precio': [5.5,6.0,4.5]\n",
    "})\n",
    "productos_df['Precio_Total'] = productos_df['Cantidad']*productos_df['Precio']\n",
    "print(productos_df)"
   ]
  },
  {
   "cell_type": "code",
   "execution_count": 3,
   "id": "f79e120d-5e89-4250-845e-6a647699d5f0",
   "metadata": {},
   "outputs": [
    {
     "name": "stdout",
     "output_type": "stream",
     "text": [
      "   Producto_ID  Cantidad  Precio\n",
      "0            1        10     5.5\n",
      "1            2        20     6.0\n"
     ]
    }
   ],
   "source": [
    "import pandas as pd\n",
    "productos_df =pd.DataFrame({\n",
    "    'Producto_ID': [1,2,3],\n",
    "    'Cantidad' : [10, 20,15],\n",
    "    'Precio': [5.5,6.0,4.5]\n",
    "})\n",
    "print(productos_df.loc[productos_df['Precio']>5.0])"
   ]
  },
  {
   "cell_type": "code",
   "execution_count": 5,
   "id": "88a18468-2b3f-468e-9da9-ab49c3e238b0",
   "metadata": {},
   "outputs": [
    {
     "ename": "SyntaxError",
     "evalue": "invalid syntax (1077918104.py, line 2)",
     "output_type": "error",
     "traceback": [
      "  \u001b[36mCell\u001b[39m\u001b[36m \u001b[39m\u001b[32mIn[5]\u001b[39m\u001b[32m, line 2\u001b[39m\n\u001b[31m    \u001b[39m\u001b[31mnotas = np.array{[\u001b[39m\n                    ^\n\u001b[31mSyntaxError\u001b[39m\u001b[31m:\u001b[39m invalid syntax\n"
     ]
    }
   ],
   "source": [
    "import numpy as np\n",
    "notas = np.array([\n",
    "    [7,6,5],\n",
    "    [5,7,6],\n",
    "    [6,4,7],\n",
    "    [7,7,7],\n",
    "    [4,6,5]\n",
    "])\n",
    "promedios_estudiantes = np.mean(notas, axis=1)\n",
    "print(\"Promedio por estudiante: \", promedios_estudiantes)\n",
    "promedios_asignaturas = np.mean(notas, axis=0)\n",
    "print(\"Promedio por asignatura: \", promedios_asignaturas)                "
   ]
  },
  {
   "cell_type": "code",
   "execution_count": null,
   "id": "3a21d8d7-6930-40f4-994f-788d391173ab",
   "metadata": {},
   "outputs": [],
   "source": []
  }
 ],
 "metadata": {
  "kernelspec": {
   "display_name": "Python 3 (ipykernel)",
   "language": "python",
   "name": "python3"
  },
  "language_info": {
   "codemirror_mode": {
    "name": "ipython",
    "version": 3
   },
   "file_extension": ".py",
   "mimetype": "text/x-python",
   "name": "python",
   "nbconvert_exporter": "python",
   "pygments_lexer": "ipython3",
   "version": "3.13.5"
  }
 },
 "nbformat": 4,
 "nbformat_minor": 5
}
